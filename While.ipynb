{
 "cells": [
  {
   "cell_type": "code",
   "execution_count": 14,
   "metadata": {},
   "outputs": [],
   "source": [
    "contador = 0"
   ]
  },
  {
   "cell_type": "code",
   "execution_count": 15,
   "metadata": {},
   "outputs": [
    {
     "name": "stdout",
     "output_type": "stream",
     "text": [
      "estou tentando sair do loop\n",
      "estou tentando sair do loop\n",
      "estou tentando sair do loop\n",
      "estou tentando sair do loop\n",
      "estou tentando sair do loop\n",
      "estou tentando sair do loop\n",
      "estou tentando sair do loop\n",
      "estou tentando sair do loop\n",
      "estou tentando sair do loop\n",
      "consegui sair!\n"
     ]
    }
   ],
   "source": [
    "while contador < 9:\n",
    "    print(\"estou tentando sair do loop\")\n",
    "    contador = contador + 1\n",
    "print(\"consegui sair!\")"
   ]
  },
  {
   "cell_type": "markdown",
   "metadata": {},
   "source": [
    "Utilizando o comando time.sleep importado da biblioteca time "
   ]
  },
  {
   "cell_type": "code",
   "execution_count": 16,
   "metadata": {},
   "outputs": [
    {
     "name": "stdout",
     "output_type": "stream",
     "text": [
      "Vaii corinthians\n",
      "Vaii corinthians\n",
      "Vaii corinthians\n",
      "Vaii corinthians\n",
      "Vaii corinthians\n",
      "Vaii corinthians\n",
      "É campeão!\n"
     ]
    }
   ],
   "source": [
    "import time \n",
    "contador = 0\n",
    "\n",
    "while contador < 6:\n",
    "    print(\"Vaii corinthians\")\n",
    "    contador = contador + 1\n",
    "    time.sleep(1)\n",
    "print(\"É campeão!\")\n"
   ]
  },
  {
   "cell_type": "markdown",
   "metadata": {},
   "source": [
    "Pedir um numero inteiro para usuário e calcular o fatorial utilizando while"
   ]
  },
  {
   "cell_type": "code",
   "execution_count": 26,
   "metadata": {},
   "outputs": [
    {
     "name": "stdout",
     "output_type": "stream",
     "text": [
      "digite o numero: 6\n",
      "6! = 720\n"
     ]
    }
   ],
   "source": [
    "nro = int(input(\"digite o numero: \"))\n",
    "fat = nro\n",
    "cont = 1\n",
    "while (nro-cont) > 1:\n",
    "    fat=fat*(nro-cont)\n",
    "    cont += 1    \n",
    "print(\"{}! = {}\".format(nro,fat))"
   ]
  },
  {
   "cell_type": "code",
   "execution_count": 2,
   "metadata": {},
   "outputs": [
    {
     "data": {
      "text/plain": [
       "720"
      ]
     },
     "execution_count": 2,
     "metadata": {},
     "output_type": "execute_result"
    }
   ],
   "source": [
    "import math\n",
    "math.factorial(6)"
   ]
  }
 ],
 "metadata": {
  "kernelspec": {
   "display_name": "Python 3",
   "language": "python",
   "name": "python3"
  },
  "language_info": {
   "codemirror_mode": {
    "name": "ipython",
    "version": 3
   },
   "file_extension": ".py",
   "mimetype": "text/x-python",
   "name": "python",
   "nbconvert_exporter": "python",
   "pygments_lexer": "ipython3",
   "version": "3.8.3"
  }
 },
 "nbformat": 4,
 "nbformat_minor": 4
}
