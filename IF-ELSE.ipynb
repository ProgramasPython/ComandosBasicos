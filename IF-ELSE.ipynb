{
 "cells": [
  {
   "cell_type": "code",
   "execution_count": 20,
   "metadata": {},
   "outputs": [],
   "source": [
    "comida = \"pizza\""
   ]
  },
  {
   "cell_type": "code",
   "execution_count": 21,
   "metadata": {},
   "outputs": [
    {
     "name": "stdout",
     "output_type": "stream",
     "text": [
      "possui muitas calorias\n"
     ]
    }
   ],
   "source": [
    "if comida == \"pizza\"or\"PIZZA\"or\"Pizza\":\n",
    "    print(\"possui muitas calorias\")\n",
    "else:\n",
    "    print(\"desconheço as calorias\")"
   ]
  },
  {
   "cell_type": "markdown",
   "metadata": {},
   "source": [
    "IF (== igual)"
   ]
  },
  {
   "cell_type": "code",
   "execution_count": 30,
   "metadata": {},
   "outputs": [
    {
     "name": "stdout",
     "output_type": "stream",
     "text": [
      "desconheço as calorias\n"
     ]
    }
   ],
   "source": [
    "comida = \"macarrao\"\n",
    "if comida == \"pizza\":\n",
    "    print(\"possui muitas calorias\")\n",
    "elif comida == \"arroz\":\n",
    "    print(\"possui muitas calorias\")\n",
    "elif comida ==\"feijao\":\n",
    "    print(\"possuui muitas calorias\")\n",
    "else:\n",
    "    print(\"desconheço as calorias\")"
   ]
  },
  {
   "cell_type": "markdown",
   "metadata": {},
   "source": [
    "IF (!= diferente)"
   ]
  },
  {
   "cell_type": "code",
   "execution_count": 32,
   "metadata": {},
   "outputs": [
    {
     "name": "stdout",
     "output_type": "stream",
     "text": [
      "é um churrasco gostoso!\n"
     ]
    }
   ],
   "source": [
    "comida = \"churrasco\"\n",
    "if comida != \"churrasco\":\n",
    "    print(\"não é churrasco!\")\n",
    "else:\n",
    "    print(\"é um churrasco gostoso!\")"
   ]
  },
  {
   "cell_type": "markdown",
   "metadata": {},
   "source": [
    "Exercicio: perguntar para o usuário que ano ele nasceu e dizer se ele é maior de idade ou menor de idade"
   ]
  },
  {
   "cell_type": "code",
   "execution_count": 72,
   "metadata": {},
   "outputs": [
    {
     "name": "stdout",
     "output_type": "stream",
     "text": [
      "ano de nascimento: 2003\n",
      "você é menor de idade! \n"
     ]
    }
   ],
   "source": [
    "ano = int(input(\"ano de nascimento: \"))\n",
    "idade = 2020 - ano\n",
    "if idade >= 18:\n",
    "    print(\"você é maior de idade! \")\n",
    "else:\n",
    "    print(\"você é menor de idade! \")\n",
    "\n"
   ]
  }
 ],
 "metadata": {
  "kernelspec": {
   "display_name": "Python 3",
   "language": "python",
   "name": "python3"
  },
  "language_info": {
   "codemirror_mode": {
    "name": "ipython",
    "version": 3
   },
   "file_extension": ".py",
   "mimetype": "text/x-python",
   "name": "python",
   "nbconvert_exporter": "python",
   "pygments_lexer": "ipython3",
   "version": "3.8.3"
  }
 },
 "nbformat": 4,
 "nbformat_minor": 4
}
