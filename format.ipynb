{
 "cells": [
  {
   "cell_type": "markdown",
   "metadata": {},
   "source": [
    "    print(\"comentario {} comentário\" .format())para colocar colocar a variável dentro dos conchetes...\n",
    "    %s é uma string\n",
    "    %d é um inteiro\n",
    "    %f é um float"
   ]
  },
  {
   "cell_type": "code",
   "execution_count": 26,
   "metadata": {},
   "outputs": [],
   "source": [
    "fruta = \"laranja\""
   ]
  },
  {
   "cell_type": "code",
   "execution_count": 27,
   "metadata": {},
   "outputs": [
    {
     "name": "stdout",
     "output_type": "stream",
     "text": [
      "suco de laranja é o meu preferido!\n"
     ]
    }
   ],
   "source": [
    "print(\"suco de {} é o meu preferido!\".format(fruta))"
   ]
  },
  {
   "cell_type": "code",
   "execution_count": 28,
   "metadata": {},
   "outputs": [
    {
     "name": "stdout",
     "output_type": "stream",
     "text": [
      "suco de laranja é o meu preferido!\n"
     ]
    }
   ],
   "source": [
    "print(\"suco de %s é o meu preferido!\" %fruta)"
   ]
  },
  {
   "cell_type": "code",
   "execution_count": 29,
   "metadata": {},
   "outputs": [],
   "source": [
    "fruta = 6"
   ]
  },
  {
   "cell_type": "code",
   "execution_count": 30,
   "metadata": {},
   "outputs": [
    {
     "name": "stdout",
     "output_type": "stream",
     "text": [
      "suco de 6 é o meu preferido!\n"
     ]
    }
   ],
   "source": [
    "print(\"suco de %d é o meu preferido!\" %fruta)"
   ]
  },
  {
   "cell_type": "code",
   "execution_count": 31,
   "metadata": {},
   "outputs": [],
   "source": [
    "fruta = 1.6"
   ]
  },
  {
   "cell_type": "code",
   "execution_count": 33,
   "metadata": {},
   "outputs": [
    {
     "name": "stdout",
     "output_type": "stream",
     "text": [
      "suco de 1.600000 é o meu preferido!\n"
     ]
    }
   ],
   "source": [
    "print(\"suco de %f é o meu preferido!\" %fruta)"
   ]
  },
  {
   "cell_type": "code",
   "execution_count": 34,
   "metadata": {},
   "outputs": [],
   "source": [
    "cor1 = \"azul\"\n",
    "cor2 = \"preto\""
   ]
  },
  {
   "cell_type": "code",
   "execution_count": 41,
   "metadata": {},
   "outputs": [
    {
     "name": "stdout",
     "output_type": "stream",
     "text": [
      "o céu está azul!\n",
      "meu carro é preto!\n",
      "meu cabelo é azul!\n"
     ]
    }
   ],
   "source": [
    "print(\"o céu está {}!\\nmeu carro é {}!\\nmeu cabelo é {}!\".format(cor1,cor2,cor1))"
   ]
  },
  {
   "cell_type": "code",
   "execution_count": 42,
   "metadata": {},
   "outputs": [
    {
     "name": "stdout",
     "output_type": "stream",
     "text": [
      "5.666666666666667\n"
     ]
    }
   ],
   "source": [
    "conta = 17/3\n",
    "print(conta)"
   ]
  },
  {
   "cell_type": "markdown",
   "metadata": {},
   "source": [
    "Mostrar somente três casas decimais depois da virgula"
   ]
  },
  {
   "cell_type": "code",
   "execution_count": 48,
   "metadata": {},
   "outputs": [
    {
     "name": "stdout",
     "output_type": "stream",
     "text": [
      "o resultado da conta é 5.667\n"
     ]
    }
   ],
   "source": [
    "print(\"o resultado da conta é {:.3f}\".format(conta))"
   ]
  },
  {
   "cell_type": "markdown",
   "metadata": {},
   "source": [
    "Comando para determinal quantas casas decimais deseja depois da virgula {:.2f}"
   ]
  }
 ],
 "metadata": {
  "kernelspec": {
   "display_name": "Python 3",
   "language": "python",
   "name": "python3"
  },
  "language_info": {
   "codemirror_mode": {
    "name": "ipython",
    "version": 3
   },
   "file_extension": ".py",
   "mimetype": "text/x-python",
   "name": "python",
   "nbconvert_exporter": "python",
   "pygments_lexer": "ipython3",
   "version": "3.8.3"
  }
 },
 "nbformat": 4,
 "nbformat_minor": 4
}
